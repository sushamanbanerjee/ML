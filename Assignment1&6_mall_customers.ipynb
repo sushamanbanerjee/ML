{
 "cells": [
  {
   "cell_type": "markdown",
   "id": "590557de",
   "metadata": {},
   "source": [
    "## <b>Assignment on Clustering Techniques</b>\n",
    "Download the following customer dataset from below link:\n",
    "#\n",
    "<i>Data Set: https://www.kaggle.com/shwetabh123/mall-customers</i>\n",
    "# \n",
    "This dataset givesthe data of Income and money spent by the customers visiting a Shopping \n",
    "Mall.\n",
    "The data set contains Customer ID, Gender, Age, Annual Income, Spending Score. Therefore, as\n",
    "a mall owner you need to find the group of people who are the profitable customers for the mall\n",
    "owner. Apply at least two clustering algorithms (based on Spending Score) to find the group of\n",
    "customers.\n",
    "\n",
    "* Apply Data pre-processing (Label Encoding, Data Transformation….) techniques if\n",
    "necessary.\n",
    "* Perform data-preparation\n",
    "* Apply Machine Learning Algorithm\n",
    "* Evaluate Model.\n",
    "* Apply Cross-Validation and Evaluate Model"
   ]
  },
  {
   "cell_type": "code",
   "execution_count": 1,
   "id": "1674c755",
   "metadata": {
    "execution": {
     "iopub.execute_input": "2024-03-31T06:20:45.745490Z",
     "iopub.status.busy": "2024-03-31T06:20:45.744962Z",
     "iopub.status.idle": "2024-03-31T06:20:48.081318Z",
     "shell.execute_reply": "2024-03-31T06:20:48.080147Z"
    },
    "papermill": {
     "duration": 2.353222,
     "end_time": "2024-03-31T06:20:48.084073",
     "exception": false,
     "start_time": "2024-03-31T06:20:45.730851",
     "status": "completed"
    },
    "tags": []
   },
   "outputs": [],
   "source": [
    "import pandas as pd\n",
    "import numpy as np\n",
    "import matplotlib.pyplot as plt\n",
    "import seaborn as sns"
   ]
  },
  {
   "cell_type": "code",
   "execution_count": 2,
   "id": "9f2dedb6",
   "metadata": {
    "execution": {
     "iopub.execute_input": "2024-03-31T06:20:48.107555Z",
     "iopub.status.busy": "2024-03-31T06:20:48.107015Z",
     "iopub.status.idle": "2024-03-31T06:20:48.146699Z",
     "shell.execute_reply": "2024-03-31T06:20:48.145587Z"
    },
    "papermill": {
     "duration": 0.054321,
     "end_time": "2024-03-31T06:20:48.149352",
     "exception": false,
     "start_time": "2024-03-31T06:20:48.095031",
     "status": "completed"
    },
    "tags": []
   },
   "outputs": [
    {
     "data": {
      "text/html": [
       "<div>\n",
       "<style scoped>\n",
       "    .dataframe tbody tr th:only-of-type {\n",
       "        vertical-align: middle;\n",
       "    }\n",
       "\n",
       "    .dataframe tbody tr th {\n",
       "        vertical-align: top;\n",
       "    }\n",
       "\n",
       "    .dataframe thead th {\n",
       "        text-align: right;\n",
       "    }\n",
       "</style>\n",
       "<table border=\"1\" class=\"dataframe\">\n",
       "  <thead>\n",
       "    <tr style=\"text-align: right;\">\n",
       "      <th></th>\n",
       "      <th>CustomerID</th>\n",
       "      <th>Genre</th>\n",
       "      <th>Age</th>\n",
       "      <th>Annual Income (k$)</th>\n",
       "      <th>Spending Score (1-100)</th>\n",
       "    </tr>\n",
       "  </thead>\n",
       "  <tbody>\n",
       "    <tr>\n",
       "      <th>0</th>\n",
       "      <td>1</td>\n",
       "      <td>Male</td>\n",
       "      <td>19</td>\n",
       "      <td>15</td>\n",
       "      <td>39</td>\n",
       "    </tr>\n",
       "    <tr>\n",
       "      <th>1</th>\n",
       "      <td>2</td>\n",
       "      <td>Male</td>\n",
       "      <td>21</td>\n",
       "      <td>15</td>\n",
       "      <td>81</td>\n",
       "    </tr>\n",
       "    <tr>\n",
       "      <th>2</th>\n",
       "      <td>3</td>\n",
       "      <td>Female</td>\n",
       "      <td>20</td>\n",
       "      <td>16</td>\n",
       "      <td>6</td>\n",
       "    </tr>\n",
       "    <tr>\n",
       "      <th>3</th>\n",
       "      <td>4</td>\n",
       "      <td>Female</td>\n",
       "      <td>23</td>\n",
       "      <td>16</td>\n",
       "      <td>77</td>\n",
       "    </tr>\n",
       "    <tr>\n",
       "      <th>4</th>\n",
       "      <td>5</td>\n",
       "      <td>Female</td>\n",
       "      <td>31</td>\n",
       "      <td>17</td>\n",
       "      <td>40</td>\n",
       "    </tr>\n",
       "  </tbody>\n",
       "</table>\n",
       "</div>"
      ],
      "text/plain": [
       "   CustomerID   Genre  Age  Annual Income (k$)  Spending Score (1-100)\n",
       "0           1    Male   19                  15                      39\n",
       "1           2    Male   21                  15                      81\n",
       "2           3  Female   20                  16                       6\n",
       "3           4  Female   23                  16                      77\n",
       "4           5  Female   31                  17                      40"
      ]
     },
     "execution_count": 2,
     "metadata": {},
     "output_type": "execute_result"
    }
   ],
   "source": [
    "data=pd.read_csv(\"./Dataset/Mall_Customers.csv\")\n",
    "data.head()"
   ]
  },
  {
   "cell_type": "code",
   "execution_count": 3,
   "id": "1ee8c763",
   "metadata": {
    "execution": {
     "iopub.execute_input": "2024-03-31T06:20:48.217832Z",
     "iopub.status.busy": "2024-03-31T06:20:48.216742Z",
     "iopub.status.idle": "2024-03-31T06:20:48.228489Z",
     "shell.execute_reply": "2024-03-31T06:20:48.227369Z"
    },
    "papermill": {
     "duration": 0.026739,
     "end_time": "2024-03-31T06:20:48.230908",
     "exception": false,
     "start_time": "2024-03-31T06:20:48.204169",
     "status": "completed"
    },
    "tags": []
   },
   "outputs": [
    {
     "data": {
      "text/html": [
       "<div>\n",
       "<style scoped>\n",
       "    .dataframe tbody tr th:only-of-type {\n",
       "        vertical-align: middle;\n",
       "    }\n",
       "\n",
       "    .dataframe tbody tr th {\n",
       "        vertical-align: top;\n",
       "    }\n",
       "\n",
       "    .dataframe thead th {\n",
       "        text-align: right;\n",
       "    }\n",
       "</style>\n",
       "<table border=\"1\" class=\"dataframe\">\n",
       "  <thead>\n",
       "    <tr style=\"text-align: right;\">\n",
       "      <th></th>\n",
       "      <th>CustomerID</th>\n",
       "      <th>Genre</th>\n",
       "      <th>Age</th>\n",
       "      <th>Annual Income (k$)</th>\n",
       "      <th>Spending Score (1-100)</th>\n",
       "    </tr>\n",
       "  </thead>\n",
       "  <tbody>\n",
       "    <tr>\n",
       "      <th>0</th>\n",
       "      <td>1</td>\n",
       "      <td>Male</td>\n",
       "      <td>19</td>\n",
       "      <td>15</td>\n",
       "      <td>39</td>\n",
       "    </tr>\n",
       "    <tr>\n",
       "      <th>1</th>\n",
       "      <td>2</td>\n",
       "      <td>Male</td>\n",
       "      <td>21</td>\n",
       "      <td>15</td>\n",
       "      <td>81</td>\n",
       "    </tr>\n",
       "    <tr>\n",
       "      <th>2</th>\n",
       "      <td>3</td>\n",
       "      <td>Female</td>\n",
       "      <td>20</td>\n",
       "      <td>16</td>\n",
       "      <td>6</td>\n",
       "    </tr>\n",
       "    <tr>\n",
       "      <th>3</th>\n",
       "      <td>4</td>\n",
       "      <td>Female</td>\n",
       "      <td>23</td>\n",
       "      <td>16</td>\n",
       "      <td>77</td>\n",
       "    </tr>\n",
       "    <tr>\n",
       "      <th>4</th>\n",
       "      <td>5</td>\n",
       "      <td>Female</td>\n",
       "      <td>31</td>\n",
       "      <td>17</td>\n",
       "      <td>40</td>\n",
       "    </tr>\n",
       "  </tbody>\n",
       "</table>\n",
       "</div>"
      ],
      "text/plain": [
       "   CustomerID   Genre  Age  Annual Income (k$)  Spending Score (1-100)\n",
       "0           1    Male   19                  15                      39\n",
       "1           2    Male   21                  15                      81\n",
       "2           3  Female   20                  16                       6\n",
       "3           4  Female   23                  16                      77\n",
       "4           5  Female   31                  17                      40"
      ]
     },
     "execution_count": 3,
     "metadata": {},
     "output_type": "execute_result"
    }
   ],
   "source": [
    "data.head()"
   ]
  },
  {
   "cell_type": "code",
   "execution_count": 4,
   "id": "d1fe30a5",
   "metadata": {
    "execution": {
     "iopub.execute_input": "2024-03-31T06:20:48.277408Z",
     "iopub.status.busy": "2024-03-31T06:20:48.277033Z",
     "iopub.status.idle": "2024-03-31T06:20:48.288201Z",
     "shell.execute_reply": "2024-03-31T06:20:48.287433Z"
    },
    "papermill": {
     "duration": 0.025966,
     "end_time": "2024-03-31T06:20:48.290284",
     "exception": false,
     "start_time": "2024-03-31T06:20:48.264318",
     "status": "completed"
    },
    "tags": []
   },
   "outputs": [
    {
     "data": {
      "text/html": [
       "<div>\n",
       "<style scoped>\n",
       "    .dataframe tbody tr th:only-of-type {\n",
       "        vertical-align: middle;\n",
       "    }\n",
       "\n",
       "    .dataframe tbody tr th {\n",
       "        vertical-align: top;\n",
       "    }\n",
       "\n",
       "    .dataframe thead th {\n",
       "        text-align: right;\n",
       "    }\n",
       "</style>\n",
       "<table border=\"1\" class=\"dataframe\">\n",
       "  <thead>\n",
       "    <tr style=\"text-align: right;\">\n",
       "      <th></th>\n",
       "      <th>CustomerID</th>\n",
       "      <th>Genre</th>\n",
       "      <th>Age</th>\n",
       "      <th>Annual Income (k$)</th>\n",
       "      <th>Spending Score (1-100)</th>\n",
       "    </tr>\n",
       "  </thead>\n",
       "  <tbody>\n",
       "    <tr>\n",
       "      <th>195</th>\n",
       "      <td>196</td>\n",
       "      <td>Female</td>\n",
       "      <td>35</td>\n",
       "      <td>120</td>\n",
       "      <td>79</td>\n",
       "    </tr>\n",
       "    <tr>\n",
       "      <th>196</th>\n",
       "      <td>197</td>\n",
       "      <td>Female</td>\n",
       "      <td>45</td>\n",
       "      <td>126</td>\n",
       "      <td>28</td>\n",
       "    </tr>\n",
       "    <tr>\n",
       "      <th>197</th>\n",
       "      <td>198</td>\n",
       "      <td>Male</td>\n",
       "      <td>32</td>\n",
       "      <td>126</td>\n",
       "      <td>74</td>\n",
       "    </tr>\n",
       "    <tr>\n",
       "      <th>198</th>\n",
       "      <td>199</td>\n",
       "      <td>Male</td>\n",
       "      <td>32</td>\n",
       "      <td>137</td>\n",
       "      <td>18</td>\n",
       "    </tr>\n",
       "    <tr>\n",
       "      <th>199</th>\n",
       "      <td>200</td>\n",
       "      <td>Male</td>\n",
       "      <td>30</td>\n",
       "      <td>137</td>\n",
       "      <td>83</td>\n",
       "    </tr>\n",
       "  </tbody>\n",
       "</table>\n",
       "</div>"
      ],
      "text/plain": [
       "     CustomerID   Genre  Age  Annual Income (k$)  Spending Score (1-100)\n",
       "195         196  Female   35                 120                      79\n",
       "196         197  Female   45                 126                      28\n",
       "197         198    Male   32                 126                      74\n",
       "198         199    Male   32                 137                      18\n",
       "199         200    Male   30                 137                      83"
      ]
     },
     "execution_count": 4,
     "metadata": {},
     "output_type": "execute_result"
    }
   ],
   "source": [
    "data.tail()"
   ]
  },
  {
   "cell_type": "code",
   "execution_count": 5,
   "id": "17713ad2",
   "metadata": {
    "execution": {
     "iopub.execute_input": "2024-03-31T06:20:48.338502Z",
     "iopub.status.busy": "2024-03-31T06:20:48.337813Z",
     "iopub.status.idle": "2024-03-31T06:20:48.343464Z",
     "shell.execute_reply": "2024-03-31T06:20:48.342683Z"
    },
    "papermill": {
     "duration": 0.02061,
     "end_time": "2024-03-31T06:20:48.345568",
     "exception": false,
     "start_time": "2024-03-31T06:20:48.324958",
     "status": "completed"
    },
    "tags": []
   },
   "outputs": [
    {
     "data": {
      "text/plain": [
       "(200, 5)"
      ]
     },
     "execution_count": 5,
     "metadata": {},
     "output_type": "execute_result"
    }
   ],
   "source": [
    "data.shape"
   ]
  },
  {
   "cell_type": "code",
   "execution_count": 6,
   "id": "85b2f0a8",
   "metadata": {
    "execution": {
     "iopub.execute_input": "2024-03-31T06:20:48.370632Z",
     "iopub.status.busy": "2024-03-31T06:20:48.370186Z",
     "iopub.status.idle": "2024-03-31T06:20:48.376023Z",
     "shell.execute_reply": "2024-03-31T06:20:48.374995Z"
    },
    "papermill": {
     "duration": 0.021624,
     "end_time": "2024-03-31T06:20:48.378772",
     "exception": false,
     "start_time": "2024-03-31T06:20:48.357148",
     "status": "completed"
    },
    "tags": []
   },
   "outputs": [
    {
     "name": "stdout",
     "output_type": "stream",
     "text": [
      "The of rows:  200\n",
      "The of rows:  5\n"
     ]
    }
   ],
   "source": [
    "print(\"The of rows: \", data.shape[0])\n",
    "print(\"The of rows: \", data.shape[1])"
   ]
  },
  {
   "cell_type": "code",
   "execution_count": 7,
   "id": "eb65621a",
   "metadata": {
    "execution": {
     "iopub.execute_input": "2024-03-31T06:20:48.427294Z",
     "iopub.status.busy": "2024-03-31T06:20:48.426933Z",
     "iopub.status.idle": "2024-03-31T06:20:48.451676Z",
     "shell.execute_reply": "2024-03-31T06:20:48.450305Z"
    },
    "papermill": {
     "duration": 0.040439,
     "end_time": "2024-03-31T06:20:48.454173",
     "exception": false,
     "start_time": "2024-03-31T06:20:48.413734",
     "status": "completed"
    },
    "tags": []
   },
   "outputs": [
    {
     "name": "stdout",
     "output_type": "stream",
     "text": [
      "<class 'pandas.core.frame.DataFrame'>\n",
      "RangeIndex: 200 entries, 0 to 199\n",
      "Data columns (total 5 columns):\n",
      " #   Column                  Non-Null Count  Dtype \n",
      "---  ------                  --------------  ----- \n",
      " 0   CustomerID              200 non-null    int64 \n",
      " 1   Genre                   200 non-null    object\n",
      " 2   Age                     200 non-null    int64 \n",
      " 3   Annual Income (k$)      200 non-null    int64 \n",
      " 4   Spending Score (1-100)  200 non-null    int64 \n",
      "dtypes: int64(4), object(1)\n",
      "memory usage: 7.9+ KB\n"
     ]
    }
   ],
   "source": [
    "data.info()"
   ]
  },
  {
   "cell_type": "code",
   "execution_count": 8,
   "id": "bb419050",
   "metadata": {
    "execution": {
     "iopub.execute_input": "2024-03-31T06:20:48.503457Z",
     "iopub.status.busy": "2024-03-31T06:20:48.502752Z",
     "iopub.status.idle": "2024-03-31T06:20:48.511286Z",
     "shell.execute_reply": "2024-03-31T06:20:48.510281Z"
    },
    "papermill": {
     "duration": 0.024226,
     "end_time": "2024-03-31T06:20:48.513835",
     "exception": false,
     "start_time": "2024-03-31T06:20:48.489609",
     "status": "completed"
    },
    "tags": []
   },
   "outputs": [
    {
     "data": {
      "text/plain": [
       "CustomerID                0\n",
       "Genre                     0\n",
       "Age                       0\n",
       "Annual Income (k$)        0\n",
       "Spending Score (1-100)    0\n",
       "dtype: int64"
      ]
     },
     "execution_count": 8,
     "metadata": {},
     "output_type": "execute_result"
    }
   ],
   "source": [
    "data.isnull().sum()"
   ]
  },
  {
   "cell_type": "code",
   "execution_count": 9,
   "id": "d02f4d2e",
   "metadata": {
    "execution": {
     "iopub.execute_input": "2024-03-31T06:20:48.564983Z",
     "iopub.status.busy": "2024-03-31T06:20:48.563923Z",
     "iopub.status.idle": "2024-03-31T06:20:48.589077Z",
     "shell.execute_reply": "2024-03-31T06:20:48.587950Z"
    },
    "papermill": {
     "duration": 0.041151,
     "end_time": "2024-03-31T06:20:48.591647",
     "exception": false,
     "start_time": "2024-03-31T06:20:48.550496",
     "status": "completed"
    },
    "tags": []
   },
   "outputs": [
    {
     "data": {
      "text/html": [
       "<div>\n",
       "<style scoped>\n",
       "    .dataframe tbody tr th:only-of-type {\n",
       "        vertical-align: middle;\n",
       "    }\n",
       "\n",
       "    .dataframe tbody tr th {\n",
       "        vertical-align: top;\n",
       "    }\n",
       "\n",
       "    .dataframe thead th {\n",
       "        text-align: right;\n",
       "    }\n",
       "</style>\n",
       "<table border=\"1\" class=\"dataframe\">\n",
       "  <thead>\n",
       "    <tr style=\"text-align: right;\">\n",
       "      <th></th>\n",
       "      <th>CustomerID</th>\n",
       "      <th>Age</th>\n",
       "      <th>Annual Income (k$)</th>\n",
       "      <th>Spending Score (1-100)</th>\n",
       "    </tr>\n",
       "  </thead>\n",
       "  <tbody>\n",
       "    <tr>\n",
       "      <th>count</th>\n",
       "      <td>200.000000</td>\n",
       "      <td>200.000000</td>\n",
       "      <td>200.000000</td>\n",
       "      <td>200.000000</td>\n",
       "    </tr>\n",
       "    <tr>\n",
       "      <th>mean</th>\n",
       "      <td>100.500000</td>\n",
       "      <td>38.850000</td>\n",
       "      <td>60.560000</td>\n",
       "      <td>50.200000</td>\n",
       "    </tr>\n",
       "    <tr>\n",
       "      <th>std</th>\n",
       "      <td>57.879185</td>\n",
       "      <td>13.969007</td>\n",
       "      <td>26.264721</td>\n",
       "      <td>25.823522</td>\n",
       "    </tr>\n",
       "    <tr>\n",
       "      <th>min</th>\n",
       "      <td>1.000000</td>\n",
       "      <td>18.000000</td>\n",
       "      <td>15.000000</td>\n",
       "      <td>1.000000</td>\n",
       "    </tr>\n",
       "    <tr>\n",
       "      <th>25%</th>\n",
       "      <td>50.750000</td>\n",
       "      <td>28.750000</td>\n",
       "      <td>41.500000</td>\n",
       "      <td>34.750000</td>\n",
       "    </tr>\n",
       "    <tr>\n",
       "      <th>50%</th>\n",
       "      <td>100.500000</td>\n",
       "      <td>36.000000</td>\n",
       "      <td>61.500000</td>\n",
       "      <td>50.000000</td>\n",
       "    </tr>\n",
       "    <tr>\n",
       "      <th>75%</th>\n",
       "      <td>150.250000</td>\n",
       "      <td>49.000000</td>\n",
       "      <td>78.000000</td>\n",
       "      <td>73.000000</td>\n",
       "    </tr>\n",
       "    <tr>\n",
       "      <th>max</th>\n",
       "      <td>200.000000</td>\n",
       "      <td>70.000000</td>\n",
       "      <td>137.000000</td>\n",
       "      <td>99.000000</td>\n",
       "    </tr>\n",
       "  </tbody>\n",
       "</table>\n",
       "</div>"
      ],
      "text/plain": [
       "       CustomerID         Age  Annual Income (k$)  Spending Score (1-100)\n",
       "count  200.000000  200.000000          200.000000              200.000000\n",
       "mean   100.500000   38.850000           60.560000               50.200000\n",
       "std     57.879185   13.969007           26.264721               25.823522\n",
       "min      1.000000   18.000000           15.000000                1.000000\n",
       "25%     50.750000   28.750000           41.500000               34.750000\n",
       "50%    100.500000   36.000000           61.500000               50.000000\n",
       "75%    150.250000   49.000000           78.000000               73.000000\n",
       "max    200.000000   70.000000          137.000000               99.000000"
      ]
     },
     "execution_count": 9,
     "metadata": {},
     "output_type": "execute_result"
    }
   ],
   "source": [
    "data.describe()"
   ]
  },
  {
   "cell_type": "markdown",
   "id": "e6e8388f",
   "metadata": {
    "papermill": {
     "duration": 0.011897,
     "end_time": "2024-03-31T06:20:48.615948",
     "exception": false,
     "start_time": "2024-03-31T06:20:48.604051",
     "status": "completed"
    },
    "tags": []
   },
   "source": [
    "### K-Means"
   ]
  },
  {
   "cell_type": "code",
   "execution_count": 10,
   "id": "92c61ea2",
   "metadata": {
    "execution": {
     "iopub.execute_input": "2024-03-31T06:20:48.642760Z",
     "iopub.status.busy": "2024-03-31T06:20:48.641967Z",
     "iopub.status.idle": "2024-03-31T06:20:48.649091Z",
     "shell.execute_reply": "2024-03-31T06:20:48.648041Z"
    },
    "papermill": {
     "duration": 0.023101,
     "end_time": "2024-03-31T06:20:48.651310",
     "exception": false,
     "start_time": "2024-03-31T06:20:48.628209",
     "status": "completed"
    },
    "tags": []
   },
   "outputs": [
    {
     "data": {
      "text/plain": [
       "Index(['CustomerID', 'Genre', 'Age', 'Annual Income (k$)',\n",
       "       'Spending Score (1-100)'],\n",
       "      dtype='object')"
      ]
     },
     "execution_count": 10,
     "metadata": {},
     "output_type": "execute_result"
    }
   ],
   "source": [
    "data.columns"
   ]
  },
  {
   "cell_type": "code",
   "execution_count": 11,
   "id": "bb9ef943",
   "metadata": {
    "execution": {
     "iopub.execute_input": "2024-03-31T06:20:48.678372Z",
     "iopub.status.busy": "2024-03-31T06:20:48.677762Z",
     "iopub.status.idle": "2024-03-31T06:20:48.682423Z",
     "shell.execute_reply": "2024-03-31T06:20:48.681436Z"
    },
    "papermill": {
     "duration": 0.021061,
     "end_time": "2024-03-31T06:20:48.684907",
     "exception": false,
     "start_time": "2024-03-31T06:20:48.663846",
     "status": "completed"
    },
    "tags": []
   },
   "outputs": [],
   "source": [
    "# X = data[[Annual Income (k$), Spending Score (1-100)]]"
   ]
  },
  {
   "cell_type": "code",
   "execution_count": 12,
   "id": "2985413a",
   "metadata": {
    "execution": {
     "iopub.execute_input": "2024-03-31T06:20:48.711859Z",
     "iopub.status.busy": "2024-03-31T06:20:48.711444Z",
     "iopub.status.idle": "2024-03-31T06:20:48.717003Z",
     "shell.execute_reply": "2024-03-31T06:20:48.715782Z"
    },
    "papermill": {
     "duration": 0.021959,
     "end_time": "2024-03-31T06:20:48.719416",
     "exception": false,
     "start_time": "2024-03-31T06:20:48.697457",
     "status": "completed"
    },
    "tags": []
   },
   "outputs": [],
   "source": [
    "X= data.iloc[:,[3,4]].values"
   ]
  },
  {
   "cell_type": "code",
   "execution_count": 13,
   "id": "a32e4af6",
   "metadata": {
    "execution": {
     "iopub.execute_input": "2024-03-31T06:20:48.746480Z",
     "iopub.status.busy": "2024-03-31T06:20:48.746109Z",
     "iopub.status.idle": "2024-03-31T06:20:48.754698Z",
     "shell.execute_reply": "2024-03-31T06:20:48.753946Z"
    },
    "papermill": {
     "duration": 0.02519,
     "end_time": "2024-03-31T06:20:48.757327",
     "exception": false,
     "start_time": "2024-03-31T06:20:48.732137",
     "status": "completed"
    },
    "tags": []
   },
   "outputs": [
    {
     "data": {
      "text/plain": [
       "array([[ 15,  39],\n",
       "       [ 15,  81],\n",
       "       [ 16,   6],\n",
       "       [ 16,  77],\n",
       "       [ 17,  40],\n",
       "       [ 17,  76],\n",
       "       [ 18,   6],\n",
       "       [ 18,  94],\n",
       "       [ 19,   3],\n",
       "       [ 19,  72],\n",
       "       [ 19,  14],\n",
       "       [ 19,  99],\n",
       "       [ 20,  15],\n",
       "       [ 20,  77],\n",
       "       [ 20,  13],\n",
       "       [ 20,  79],\n",
       "       [ 21,  35],\n",
       "       [ 21,  66],\n",
       "       [ 23,  29],\n",
       "       [ 23,  98],\n",
       "       [ 24,  35],\n",
       "       [ 24,  73],\n",
       "       [ 25,   5],\n",
       "       [ 25,  73],\n",
       "       [ 28,  14],\n",
       "       [ 28,  82],\n",
       "       [ 28,  32],\n",
       "       [ 28,  61],\n",
       "       [ 29,  31],\n",
       "       [ 29,  87],\n",
       "       [ 30,   4],\n",
       "       [ 30,  73],\n",
       "       [ 33,   4],\n",
       "       [ 33,  92],\n",
       "       [ 33,  14],\n",
       "       [ 33,  81],\n",
       "       [ 34,  17],\n",
       "       [ 34,  73],\n",
       "       [ 37,  26],\n",
       "       [ 37,  75],\n",
       "       [ 38,  35],\n",
       "       [ 38,  92],\n",
       "       [ 39,  36],\n",
       "       [ 39,  61],\n",
       "       [ 39,  28],\n",
       "       [ 39,  65],\n",
       "       [ 40,  55],\n",
       "       [ 40,  47],\n",
       "       [ 40,  42],\n",
       "       [ 40,  42],\n",
       "       [ 42,  52],\n",
       "       [ 42,  60],\n",
       "       [ 43,  54],\n",
       "       [ 43,  60],\n",
       "       [ 43,  45],\n",
       "       [ 43,  41],\n",
       "       [ 44,  50],\n",
       "       [ 44,  46],\n",
       "       [ 46,  51],\n",
       "       [ 46,  46],\n",
       "       [ 46,  56],\n",
       "       [ 46,  55],\n",
       "       [ 47,  52],\n",
       "       [ 47,  59],\n",
       "       [ 48,  51],\n",
       "       [ 48,  59],\n",
       "       [ 48,  50],\n",
       "       [ 48,  48],\n",
       "       [ 48,  59],\n",
       "       [ 48,  47],\n",
       "       [ 49,  55],\n",
       "       [ 49,  42],\n",
       "       [ 50,  49],\n",
       "       [ 50,  56],\n",
       "       [ 54,  47],\n",
       "       [ 54,  54],\n",
       "       [ 54,  53],\n",
       "       [ 54,  48],\n",
       "       [ 54,  52],\n",
       "       [ 54,  42],\n",
       "       [ 54,  51],\n",
       "       [ 54,  55],\n",
       "       [ 54,  41],\n",
       "       [ 54,  44],\n",
       "       [ 54,  57],\n",
       "       [ 54,  46],\n",
       "       [ 57,  58],\n",
       "       [ 57,  55],\n",
       "       [ 58,  60],\n",
       "       [ 58,  46],\n",
       "       [ 59,  55],\n",
       "       [ 59,  41],\n",
       "       [ 60,  49],\n",
       "       [ 60,  40],\n",
       "       [ 60,  42],\n",
       "       [ 60,  52],\n",
       "       [ 60,  47],\n",
       "       [ 60,  50],\n",
       "       [ 61,  42],\n",
       "       [ 61,  49],\n",
       "       [ 62,  41],\n",
       "       [ 62,  48],\n",
       "       [ 62,  59],\n",
       "       [ 62,  55],\n",
       "       [ 62,  56],\n",
       "       [ 62,  42],\n",
       "       [ 63,  50],\n",
       "       [ 63,  46],\n",
       "       [ 63,  43],\n",
       "       [ 63,  48],\n",
       "       [ 63,  52],\n",
       "       [ 63,  54],\n",
       "       [ 64,  42],\n",
       "       [ 64,  46],\n",
       "       [ 65,  48],\n",
       "       [ 65,  50],\n",
       "       [ 65,  43],\n",
       "       [ 65,  59],\n",
       "       [ 67,  43],\n",
       "       [ 67,  57],\n",
       "       [ 67,  56],\n",
       "       [ 67,  40],\n",
       "       [ 69,  58],\n",
       "       [ 69,  91],\n",
       "       [ 70,  29],\n",
       "       [ 70,  77],\n",
       "       [ 71,  35],\n",
       "       [ 71,  95],\n",
       "       [ 71,  11],\n",
       "       [ 71,  75],\n",
       "       [ 71,   9],\n",
       "       [ 71,  75],\n",
       "       [ 72,  34],\n",
       "       [ 72,  71],\n",
       "       [ 73,   5],\n",
       "       [ 73,  88],\n",
       "       [ 73,   7],\n",
       "       [ 73,  73],\n",
       "       [ 74,  10],\n",
       "       [ 74,  72],\n",
       "       [ 75,   5],\n",
       "       [ 75,  93],\n",
       "       [ 76,  40],\n",
       "       [ 76,  87],\n",
       "       [ 77,  12],\n",
       "       [ 77,  97],\n",
       "       [ 77,  36],\n",
       "       [ 77,  74],\n",
       "       [ 78,  22],\n",
       "       [ 78,  90],\n",
       "       [ 78,  17],\n",
       "       [ 78,  88],\n",
       "       [ 78,  20],\n",
       "       [ 78,  76],\n",
       "       [ 78,  16],\n",
       "       [ 78,  89],\n",
       "       [ 78,   1],\n",
       "       [ 78,  78],\n",
       "       [ 78,   1],\n",
       "       [ 78,  73],\n",
       "       [ 79,  35],\n",
       "       [ 79,  83],\n",
       "       [ 81,   5],\n",
       "       [ 81,  93],\n",
       "       [ 85,  26],\n",
       "       [ 85,  75],\n",
       "       [ 86,  20],\n",
       "       [ 86,  95],\n",
       "       [ 87,  27],\n",
       "       [ 87,  63],\n",
       "       [ 87,  13],\n",
       "       [ 87,  75],\n",
       "       [ 87,  10],\n",
       "       [ 87,  92],\n",
       "       [ 88,  13],\n",
       "       [ 88,  86],\n",
       "       [ 88,  15],\n",
       "       [ 88,  69],\n",
       "       [ 93,  14],\n",
       "       [ 93,  90],\n",
       "       [ 97,  32],\n",
       "       [ 97,  86],\n",
       "       [ 98,  15],\n",
       "       [ 98,  88],\n",
       "       [ 99,  39],\n",
       "       [ 99,  97],\n",
       "       [101,  24],\n",
       "       [101,  68],\n",
       "       [103,  17],\n",
       "       [103,  85],\n",
       "       [103,  23],\n",
       "       [103,  69],\n",
       "       [113,   8],\n",
       "       [113,  91],\n",
       "       [120,  16],\n",
       "       [120,  79],\n",
       "       [126,  28],\n",
       "       [126,  74],\n",
       "       [137,  18],\n",
       "       [137,  83]], dtype=int64)"
      ]
     },
     "execution_count": 13,
     "metadata": {},
     "output_type": "execute_result"
    }
   ],
   "source": [
    "X"
   ]
  },
  {
   "cell_type": "code",
   "execution_count": 14,
   "id": "f08785ac",
   "metadata": {
    "execution": {
     "iopub.execute_input": "2024-03-31T06:20:48.812190Z",
     "iopub.status.busy": "2024-03-31T06:20:48.811184Z",
     "iopub.status.idle": "2024-03-31T06:20:49.445714Z",
     "shell.execute_reply": "2024-03-31T06:20:49.444595Z"
    },
    "papermill": {
     "duration": 0.652341,
     "end_time": "2024-03-31T06:20:49.448415",
     "exception": false,
     "start_time": "2024-03-31T06:20:48.796074",
     "status": "completed"
    },
    "tags": []
   },
   "outputs": [],
   "source": [
    "from sklearn.cluster import KMeans\n",
    "wcss=[]"
   ]
  },
  {
   "cell_type": "code",
   "execution_count": null,
   "id": "1b0c625f",
   "metadata": {
    "execution": {
     "iopub.execute_input": "2024-03-31T06:20:49.476197Z",
     "iopub.status.busy": "2024-03-31T06:20:49.475828Z",
     "iopub.status.idle": "2024-03-31T06:20:49.737918Z",
     "shell.execute_reply": "2024-03-31T06:20:49.736852Z"
    },
    "papermill": {
     "duration": 0.279512,
     "end_time": "2024-03-31T06:20:49.740928",
     "exception": false,
     "start_time": "2024-03-31T06:20:49.461416",
     "status": "completed"
    },
    "tags": []
   },
   "outputs": [],
   "source": [
    "for i in range(1,11):\n",
    "    kmeans= KMeans(n_clusters =i, init = 'k-means++', random_state=0)\n",
    "    kmeans.fit(X)\n",
    "    wcss.append(kmeans.inertia_)"
   ]
  },
  {
   "cell_type": "code",
   "execution_count": 16,
   "id": "4baee0e7",
   "metadata": {
    "execution": {
     "iopub.execute_input": "2024-03-31T06:20:49.770482Z",
     "iopub.status.busy": "2024-03-31T06:20:49.770114Z",
     "iopub.status.idle": "2024-03-31T06:20:50.068940Z",
     "shell.execute_reply": "2024-03-31T06:20:50.067986Z"
    },
    "papermill": {
     "duration": 0.315322,
     "end_time": "2024-03-31T06:20:50.071199",
     "exception": false,
     "start_time": "2024-03-31T06:20:49.755877",
     "status": "completed"
    },
    "tags": []
   },
   "outputs": [
    {
     "data": {
      "image/png": "[encoded data removed]",
      "text/plain": [
       "<Figure size 640x480 with 1 Axes>"
      ]
     },
     "metadata": {},
     "output_type": "display_data"
    }
   ],
   "source": [
    "plt.plot(range(1,11), wcss)\n",
    "plt.title('The elbow method')\n",
    "plt.xlabel('No. of clusters')\n",
    "plt.ylabel('WCSS values')\n",
    "plt.show()"
   ]
  },
  {
   "cell_type": "code",
   "execution_count": 17,
   "id": "8978f1ea",
   "metadata": {
    "execution": {
     "iopub.execute_input": "2024-03-31T06:20:50.127954Z",
     "iopub.status.busy": "2024-03-31T06:20:50.127043Z",
     "iopub.status.idle": "2024-03-31T06:20:50.132427Z",
     "shell.execute_reply": "2024-03-31T06:20:50.131558Z"
    },
    "papermill": {
     "duration": 0.02269,
     "end_time": "2024-03-31T06:20:50.134795",
     "exception": false,
     "start_time": "2024-03-31T06:20:50.112105",
     "status": "completed"
    },
    "tags": []
   },
   "outputs": [],
   "source": [
    "kmeansmodel= KMeans(n_clusters = 5, init = 'k-means++', random_state=0)"
   ]
  },
  {
   "cell_type": "code",
   "execution_count": 18,
   "id": "34108975",
   "metadata": {
    "execution": {
     "iopub.execute_input": "2024-03-31T06:20:50.163695Z",
     "iopub.status.busy": "2024-03-31T06:20:50.163281Z",
     "iopub.status.idle": "2024-03-31T06:20:50.189810Z",
     "shell.execute_reply": "2024-03-31T06:20:50.188575Z"
    },
    "papermill": {
     "duration": 0.044128,
     "end_time": "2024-03-31T06:20:50.192599",
     "exception": false,
     "start_time": "2024-03-31T06:20:50.148471",
     "status": "completed"
    },
    "tags": []
   },
   "outputs": [
    {
     "name": "stderr",
     "output_type": "stream",
     "text": [
      "c:\\Users\\JOJO\\AppData\\Local\\Programs\\Python\\Python311\\Lib\\site-packages\\sklearn\\cluster\\_kmeans.py:870: FutureWarning: The default value of `n_init` will change from 10 to 'auto' in 1.4. Set the value of `n_init` explicitly to suppress the warning\n",
      "  warnings.warn(\n"
     ]
    }
   ],
   "source": [
    "y_means=kmeansmodel.fit_predict(X)"
   ]
  },
  {
   "cell_type": "code",
   "execution_count": 19,
   "id": "bbd4a547",
   "metadata": {
    "execution": {
     "iopub.execute_input": "2024-03-31T06:20:50.224149Z",
     "iopub.status.busy": "2024-03-31T06:20:50.223750Z",
     "iopub.status.idle": "2024-03-31T06:20:50.231843Z",
     "shell.execute_reply": "2024-03-31T06:20:50.230607Z"
    },
    "papermill": {
     "duration": 0.025679,
     "end_time": "2024-03-31T06:20:50.234296",
     "exception": false,
     "start_time": "2024-03-31T06:20:50.208617",
     "status": "completed"
    },
    "tags": []
   },
   "outputs": [
    {
     "data": {
      "text/plain": [
       "array([4, 3, 4, 3, 4, 3, 4, 3, 4, 3, 4, 3, 4, 3, 4, 3, 4, 3, 4, 3, 4, 3,\n",
       "       4, 3, 4, 3, 4, 3, 4, 3, 4, 3, 4, 3, 4, 3, 4, 3, 4, 3, 4, 3, 4, 1,\n",
       "       4, 3, 1, 1, 1, 1, 1, 1, 1, 1, 1, 1, 1, 1, 1, 1, 1, 1, 1, 1, 1, 1,\n",
       "       1, 1, 1, 1, 1, 1, 1, 1, 1, 1, 1, 1, 1, 1, 1, 1, 1, 1, 1, 1, 1, 1,\n",
       "       1, 1, 1, 1, 1, 1, 1, 1, 1, 1, 1, 1, 1, 1, 1, 1, 1, 1, 1, 1, 1, 1,\n",
       "       1, 1, 1, 1, 1, 1, 1, 1, 1, 1, 1, 1, 1, 2, 0, 2, 1, 2, 0, 2, 0, 2,\n",
       "       1, 2, 0, 2, 0, 2, 0, 2, 0, 2, 1, 2, 0, 2, 0, 2, 0, 2, 0, 2, 0, 2,\n",
       "       0, 2, 0, 2, 0, 2, 0, 2, 0, 2, 0, 2, 0, 2, 0, 2, 0, 2, 0, 2, 0, 2,\n",
       "       0, 2, 0, 2, 0, 2, 0, 2, 0, 2, 0, 2, 0, 2, 0, 2, 0, 2, 0, 2, 0, 2,\n",
       "       0, 2])"
      ]
     },
     "execution_count": 19,
     "metadata": {},
     "output_type": "execute_result"
    }
   ],
   "source": [
    "y_means"
   ]
  },
  {
   "cell_type": "code",
   "execution_count": 26,
   "id": "38ee7d7b",
   "metadata": {
    "execution": {
     "iopub.execute_input": "2024-03-31T06:20:50.264365Z",
     "iopub.status.busy": "2024-03-31T06:20:50.263990Z",
     "iopub.status.idle": "2024-03-31T06:20:50.744190Z",
     "shell.execute_reply": "2024-03-31T06:20:50.742852Z"
    },
    "papermill": {
     "duration": 0.498569,
     "end_time": "2024-03-31T06:20:50.746866",
     "exception": false,
     "start_time": "2024-03-31T06:20:50.248297",
     "status": "completed"
    },
    "tags": []
   },
   "outputs": [
    {
     "data": {
      "image/png": "[encoded data removed]",
      "text/plain": [
       "<Figure size 640x480 with 1 Axes>"
      ]
     },
     "metadata": {},
     "output_type": "display_data"
    }
   ],
   "source": [
    "plt.scatter(X[y_means == 0,0], X[y_means == 0,1], s= 20, c = \"magenta\", label = 'Customer 1')\n",
    "plt.scatter(X[y_means == 1,0], X[y_means == 1,1], s= 20, c = \"blue\", label = 'Customer 2')\n",
    "plt.scatter(X[y_means == 2,0], X[y_means == 2,1], s= 20, c = \"yellow\", label = 'Customer 3')\n",
    "plt.scatter(X[y_means == 3,0], X[y_means == 3,1], s= 20, c = \"cyan\", label = 'Customer 4')\n",
    "plt.scatter(X[y_means == 4,0], X[y_means == 4,1], s= 20, c = \"black\", label = 'Customer 5')\n",
    "plt.scatter(kmeans.cluster_centers_[:,0], kmeans.cluster_centers_[:,1], s= 50, c= 'red', label = 'Centroids')\n",
    "plt.title('Clusters of customers')\n",
    "plt.xlabel('Annual Income(k$)')\n",
    "plt.ylabel('Spending score(1-100)')\n",
    "plt.legend()\n",
    "plt.show()"
   ]
  }
 ],
 "metadata": {
  "kaggle": {
   "accelerator": "none",
   "dataSources": [
    {
     "datasetId": 7721,
     "sourceId": 10938,
     "sourceType": "datasetVersion"
    }
   ],
   "dockerImageVersionId": 30673,
   "isGpuEnabled": false,
   "isInternetEnabled": true,
   "language": "python",
   "sourceType": "notebook"
  },
  "kernelspec": {
   "display_name": "Python 3",
   "language": "python",
   "name": "python3"
  },
  "language_info": {
   "codemirror_mode": {
    "name": "ipython",
    "version": 3
   },
   "file_extension": ".py",
   "mimetype": "text/x-python",
   "name": "python",
   "nbconvert_exporter": "python",
   "pygments_lexer": "ipython3",
   "version": "3.11.3"
  },
  "papermill": {
   "default_parameters": {},
   "duration": 8.972407,
   "end_time": "2024-03-31T06:20:51.654862",
   "environment_variables": {},
   "exception": null,
   "input_path": "__notebook__.ipynb",
   "output_path": "__notebook__.ipynb",
   "parameters": {},
   "start_time": "2024-03-31T06:20:42.682455",
   "version": "2.5.0"
  }
 },
 "nbformat": 4,
 "nbformat_minor": 5
}
