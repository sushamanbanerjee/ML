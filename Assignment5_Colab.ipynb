{
  "cells": [
    {
      "cell_type": "markdown",
      "metadata": {},
      "source": [
        "## Assignment 5\n",
        "Applying SVM as a Non-linear Classifier on CIFAR-10 Dataset\n",
        "\n",
        "<i>Tasks:</i>\n",
        "\n",
        "<b>Download and Load CIFAR-10 Dataset:</b>\n",
        "Download the CIFAR-10 dataset from Kaggle and load it into the module.\n",
        "\n",
        "<b>Pre-process Data:</b>\n",
        "Clean up variables to prevent loading data multiple times.\n",
        "\n",
        "<b>Print Data Sizes:</b>\n",
        "Print the total output size of training and test samples to verify data loading.\n",
        "\n",
        "<b>Visualize Training Data:</b>\n",
        "Visualize some samples of training data using matplotlib.pyplot (plt).\n",
        "\n",
        "<b>Apply Cross-validation:</b>\n",
        "Split the data samples into train, test, and validation sets using cross-validation techniques.\n",
        "\n",
        "<b>Create Development Set:</b>\n",
        "Create a small development set as a subset of the training data to facilitate faster code execution.\n",
        "\n",
        "<b>Display Data Shapes and Labels:</b>\n",
        "Show the shapes of training, test, and validation data.\n",
        "Display labels associated with each dataset.\n",
        "\n",
        "<b>Pre-processing:</b>\n",
        "Reshape the image samples into rows to prepare for SVM.\n",
        "\n",
        "<b>Compute Mean Image:</b>\n",
        "Compute the mean image after zero-centering the data.\n",
        "\n",
        "<b>Zero-centering Data:</b>\n",
        "Subtract the mean image from both training and testing data.\n",
        "\n",
        "<b>Append Bias Dimension:</b>\n",
        "Append a bias value of 1 to the data so that SVM optimizes only the weight matrix \n",
        "𝑊.\n",
        "\n",
        "<b>Display Shapes of Data:</b>\n",
        "Show the shapes of the training, test, and validation data after pre-processing.\n",
        "\n",
        "<b>Apply SVM to Compute Loss:</b>\n",
        "Apply SVM to compute the loss and gradients.\n",
        "\n",
        "<b>Regularization and Gradient Calculation:</b>\n",
        "Add regularization to the loss and compute the gradient of the loss with respect to the weight parameter."
      ]
    },
    {
      "cell_type": "code",
      "execution_count": null,
      "metadata": {
        "colab": {
          "base_uri": "https://localhost:8080/",
          "height": 0
        },
        "id": "osiLPz_CajZv",
        "outputId": "2a16aa16-228b-4c32-8149-0bcd7a5b6bab"
      },
      "outputs": [],
      "source": [
        "import numpy as np\n",
        "import cupy as cp\n",
        "import matplotlib.pyplot as plt\n",
        "from tensorflow.keras.datasets import cifar10\n",
        "from sklearn.model_selection import train_test_split\n",
        "from sklearn.svm import SVC\n",
        "from sklearn.preprocessing import StandardScaler\n",
        "import torch\n",
        "import torch.nn as nn\n",
        "import torch.optim as optim\n",
        "from torch.utils.data import DataLoader, TensorDataset"
      ]
    },
    {
      "cell_type": "code",
      "execution_count": 2,
      "metadata": {
        "colab": {
          "base_uri": "https://localhost:8080/",
          "height": 0
        },
        "id": "MGfVsj3lweS5",
        "outputId": "f4e01e83-2921-4246-c338-412e0b1439ab"
      },
      "outputs": [
        {
          "name": "stdout",
          "output_type": "stream",
          "text": [
            "Requirement already satisfied: cupy-cuda110 in /usr/local/lib/python3.8/site-packages (12.3.0)\n",
            "Requirement already satisfied: numpy<1.29,>=1.20 in /usr/local/lib/python3.8/site-packages (from cupy-cuda110) (1.24.4)\n",
            "Requirement already satisfied: fastrlock>=0.5 in /usr/local/lib/python3.8/site-packages (from cupy-cuda110) (0.8.2)\n",
            "\u001b[33mWARNING: Running pip as the 'root' user can result in broken permissions and conflicting behaviour with the system package manager. It is recommended to use a virtual environment instead: https://pip.pypa.io/warnings/venv\u001b[0m\u001b[33m\n",
            "\u001b[0m"
          ]
        }
      ],
      "source": [
        "!pip install cupy-cuda110\n"
      ]
    },
    {
      "cell_type": "code",
      "execution_count": 3,
      "metadata": {
        "colab": {
          "base_uri": "https://localhost:8080/",
          "height": 0
        },
        "id": "bZYFHS6-o_PL",
        "outputId": "747bf8b2-4b85-4fc6-bcbf-9ed9f16e334f"
      },
      "outputs": [
        {
          "data": {
            "text/plain": [
              "device(type='cuda')"
            ]
          },
          "execution_count": 3,
          "metadata": {},
          "output_type": "execute_result"
        }
      ],
      "source": [
        "device = torch.device(\"cuda\" if torch.cuda.is_available() else \"cpu\")\n",
        "device"
      ]
    },
    {
      "cell_type": "code",
      "execution_count": 4,
      "metadata": {
        "colab": {
          "base_uri": "https://localhost:8080/",
          "height": 0
        },
        "id": "GehwO1ezajZy",
        "outputId": "7e02d5ea-7bda-4599-bc7e-9946f0950248"
      },
      "outputs": [
        {
          "name": "stdout",
          "output_type": "stream",
          "text": [
            "Training data shape: (50000, 32, 32, 3)\n",
            "Test data shape: (10000, 32, 32, 3)\n"
          ]
        }
      ],
      "source": [
        "(x_train, y_train), (x_test, y_test) = cifar10.load_data()\n",
        "print(f'Training data shape: {x_train.shape}')\n",
        "print(f'Test data shape: {x_test.shape}')"
      ]
    },
    {
      "cell_type": "code",
      "execution_count": 5,
      "metadata": {
        "colab": {
          "base_uri": "https://localhost:8080/",
          "height": 0
        },
        "id": "0mIqD4sfajZy",
        "outputId": "e4944569-7d62-4d7c-c887-d934b281c0fb"
      },
      "outputs": [
        {
          "name": "stdout",
          "output_type": "stream",
          "text": [
            "Training labels shape: (50000,)\n",
            "Test labels shape: (10000,)\n"
          ]
        }
      ],
      "source": [
        "y_train = y_train.flatten()\n",
        "y_test = y_test.flatten()\n",
        "\n",
        "print(f'Training labels shape: {y_train.shape}')\n",
        "print(f'Test labels shape: {y_test.shape}')\n"
      ]
    },
    {
      "cell_type": "code",
      "execution_count": 6,
      "metadata": {
        "colab": {
          "base_uri": "https://localhost:8080/",
          "height": 254
        },
        "id": "qa9UE5YRajZz",
        "outputId": "3fe74202-c339-43be-d98c-a354bd323475"
      },
      "outputs": [
        {
          "data": {
            "image/png": "[encoded data removed]",
            "text/plain": [
              "<Figure size 1500x300 with 5 Axes>"
            ]
          },
          "metadata": {},
          "output_type": "display_data"
        }
      ],
      "source": [
        "fig, axes = plt.subplots(1, 5, figsize=(15, 3))\n",
        "for i in range(5):\n",
        "    axes[i].imshow(x_train[i])\n",
        "    axes[i].set_title(f'Label: {y_train[i]}')\n",
        "    axes[i].axis('off')\n",
        "plt.show()\n"
      ]
    },
    {
      "cell_type": "code",
      "execution_count": 7,
      "metadata": {
        "colab": {
          "base_uri": "https://localhost:8080/",
          "height": 0
        },
        "id": "T3eD5QppajZz",
        "outputId": "3ccf9d6e-faf9-404e-898a-9ecf20404665"
      },
      "outputs": [
        {
          "name": "stdout",
          "output_type": "stream",
          "text": [
            "Train data shape: (40000, 32, 32, 3)\n",
            "Validation data shape: (10000, 32, 32, 3)\n",
            "Test data shape: (10000, 32, 32, 3)\n"
          ]
        }
      ],
      "source": [
        "x_train, x_val, y_train, y_val = train_test_split(x_train, y_train, test_size=0.2, random_state=42)\n",
        "\n",
        "print(f'Train data shape: {x_train.shape}')\n",
        "print(f'Validation data shape: {x_val.shape}')\n",
        "print(f'Test data shape: {x_test.shape}')\n"
      ]
    },
    {
      "cell_type": "code",
      "execution_count": 8,
      "metadata": {
        "colab": {
          "base_uri": "https://localhost:8080/",
          "height": 0
        },
        "id": "LIdLShAcajZ0",
        "outputId": "beeef065-b414-4879-c967-26a31e4c4b7d"
      },
      "outputs": [
        {
          "name": "stdout",
          "output_type": "stream",
          "text": [
            "Development data shape: (5000, 32, 32, 3)\n",
            "Development labels shape: (5000,)\n"
          ]
        }
      ],
      "source": [
        "x_dev = x_train[:5000]\n",
        "y_dev = y_train[:5000]\n",
        "\n",
        "print(f'Development data shape: {x_dev.shape}')\n",
        "print(f'Development labels shape: {y_dev.shape}')\n"
      ]
    },
    {
      "cell_type": "code",
      "execution_count": 9,
      "metadata": {
        "colab": {
          "base_uri": "https://localhost:8080/",
          "height": 0
        },
        "id": "0hDByh27ajZ0",
        "outputId": "bc732121-9c69-4c94-8c2d-31a52250a33d"
      },
      "outputs": [
        {
          "name": "stdout",
          "output_type": "stream",
          "text": [
            "Flat train data shape: (40000, 3072)\n",
            "Flat validation data shape: (10000, 3072)\n",
            "Flat test data shape: (10000, 3072)\n",
            "Flat development data shape: (5000, 3072)\n"
          ]
        }
      ],
      "source": [
        "x_train = x_train.astype('float64')\n",
        "x_val = x_val.astype('float64')\n",
        "x_test = x_test.astype('float64')\n",
        "x_dev = x_dev.astype('float64')\n",
        "\n",
        "x_train_flat = x_train.reshape(x_train.shape[0], -1)\n",
        "x_val_flat = x_val.reshape(x_val.shape[0], -1)\n",
        "x_test_flat = x_test.reshape(x_test.shape[0], -1)\n",
        "x_dev_flat = x_dev.reshape(x_dev.shape[0], -1)\n",
        "\n",
        "print(f'Flat train data shape: {x_train_flat.shape}')\n",
        "print(f'Flat validation data shape: {x_val_flat.shape}')\n",
        "print(f'Flat test data shape: {x_test_flat.shape}')\n",
        "print(f'Flat development data shape: {x_dev_flat.shape}')\n"
      ]
    },
    {
      "cell_type": "code",
      "execution_count": 10,
      "metadata": {
        "colab": {
          "base_uri": "https://localhost:8080/",
          "height": 428
        },
        "id": "aiuMT-NOajZ0",
        "outputId": "56519b5d-d74b-4632-8d9a-8fe35f3918b3"
      },
      "outputs": [
        {
          "data": {
            "image/png": "[encoded data removed]",
            "text/plain": [
              "<Figure size 640x480 with 1 Axes>"
            ]
          },
          "metadata": {},
          "output_type": "display_data"
        }
      ],
      "source": [
        "mean_image = np.mean(x_train_flat, axis=0)\n",
        "\n",
        "x_train_flat -= mean_image\n",
        "x_val_flat -= mean_image\n",
        "x_test_flat -= mean_image\n",
        "x_dev_flat -= mean_image\n",
        "\n",
        "plt.imshow(mean_image.reshape(32, 32, 3).astype('uint8'))\n",
        "plt.title('Mean Image')\n",
        "plt.axis('off')\n",
        "plt.show()\n"
      ]
    },
    {
      "cell_type": "code",
      "execution_count": 11,
      "metadata": {
        "colab": {
          "base_uri": "https://localhost:8080/",
          "height": 0
        },
        "id": "HOJFUBLOajZ0",
        "outputId": "a5153940-7170-4549-f7ea-017cbbc774ed"
      },
      "outputs": [
        {
          "name": "stdout",
          "output_type": "stream",
          "text": [
            "Train data shape with bias: (40000, 3073)\n",
            "Validation data shape with bias: (10000, 3073)\n",
            "Test data shape with bias: (1000, 3073)\n",
            "Development data shape with bias: (5000, 3073)\n"
          ]
        }
      ],
      "source": [
        "x_train_flat = np.hstack([x_train_flat, np.ones((x_train_flat.shape[0], 1))])\n",
        "x_val_flat = np.hstack([x_val_flat, np.ones((x_val_flat.shape[0], 1))])\n",
        "x_test_flat = np.hstack([x_test_flat, np.ones((x_test_flat.shape[0], 1))])\n",
        "x_dev_flat = np.hstack([x_dev_flat, np.ones((x_dev_flat.shape[0], 1))])\n",
        "\n",
        "x_test_flat=x_test_flat[0:1000]\n",
        "y_test=y_test[0:1000]\n",
        "\n",
        "print(f'Train data shape with bias: {x_train_flat.shape}')\n",
        "print(f'Validation data shape with bias: {x_val_flat.shape}')\n",
        "print(f'Test data shape with bias: {x_test_flat.shape}')\n",
        "print(f'Development data shape with bias: {x_dev_flat.shape}')\n"
      ]
    },
    {
      "cell_type": "code",
      "execution_count": 12,
      "metadata": {
        "colab": {
          "base_uri": "https://localhost:8080/",
          "height": 0
        },
        "id": "_jJt2hvbajZ1",
        "outputId": "7074e951-3646-4df9-d992-502579ff0972"
      },
      "outputs": [
        {
          "name": "stdout",
          "output_type": "stream",
          "text": [
            "Test accuracy: 0.301\n",
            "Development accuracy: 1.0\n"
          ]
        }
      ],
      "source": [
        "svm = SVC(kernel='linear', C=1)\n",
        "\n",
        "x_train_flat=cp.array(x_train_flat)\n",
        "y_train=cp.array(y_train)\n",
        "x_test_flat=cp.array(x_test_flat)\n",
        "y_test=cp.array(y_test)\n",
        "x_val_flat=cp.array(x_val_flat)\n",
        "y_val=cp.array(y_val)\n",
        "x_dev_flat=cp.array(x_dev_flat)\n",
        "y_dev=cp.array(y_dev)\n",
        "\n",
        "svm.fit(x_dev_flat.get(), y_dev.get())\n",
        "\n",
        "# train_acc = svm.score(x_train_flat.get(), y_train.get())\n",
        "# val_acc = svm.score(x_val_flat.get(), y_val.get())\n",
        "test_acc = svm.score(x_test_flat.get(), y_test.get())\n",
        "dev_acc = svm.score(x_dev_flat.get(), y_dev.get())\n",
        "\n",
        "# print(f'Training accuracy: {train_acc}')\n",
        "# print(f'Validation accuracy: {val_acc}')\n",
        "print(f'Test accuracy: {test_acc}')\n",
        "print(f'Development accuracy: {dev_acc}')\n"
      ]
    },
    {
      "cell_type": "code",
      "execution_count": 13,
      "metadata": {
        "colab": {
          "base_uri": "https://localhost:8080/",
          "height": 0
        },
        "id": "lH_KT_DVajZ1",
        "outputId": "5cdd0559-9841-405c-f253-6ff0520352da"
      },
      "outputs": [
        {
          "name": "stdout",
          "output_type": "stream",
          "text": [
            "Weights shape: (45, 3073)\n",
            "Bias shape: (45,)\n"
          ]
        }
      ],
      "source": [
        "# svm = SVC(kernel='linear', C=1)\n",
        "# svm.fit(x_train_flat, y_train)\n",
        "\n",
        "weights = svm.coef_\n",
        "bias = svm.intercept_\n",
        "\n",
        "print(f'Weights shape: {weights.shape}')\n",
        "print(f'Bias shape: {bias.shape}')"
      ]
    },
    {
      "cell_type": "code",
      "execution_count": 14,
      "metadata": {
        "id": "MLhw4z9jvOkE"
      },
      "outputs": [],
      "source": [
        "# !pip install -U dask-cudf cuml"
      ]
    }
  ],
  "metadata": {
    "accelerator": "GPU",
    "colab": {
      "gpuType": "T4",
      "provenance": []
    },
    "kernelspec": {
      "display_name": "Python 3",
      "name": "python3"
    },
    "language_info": {
      "codemirror_mode": {
        "name": "ipython",
        "version": 3
      },
      "file_extension": ".py",
      "mimetype": "text/x-python",
      "name": "python",
      "nbconvert_exporter": "python",
      "pygments_lexer": "ipython3",
      "version": "3.11.3"
    }
  },
  "nbformat": 4,
  "nbformat_minor": 0
}
